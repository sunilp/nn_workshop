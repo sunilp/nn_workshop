{
 "cells": [
  {
   "cell_type": "markdown",
   "metadata": {},
   "source": [
    "## CA Assignment:\n",
    "#### Neural Network Ensembles\n",
    "----\n",
    "\n",
    "##### Given :  Two benchmark classification/regression problems:\n",
    "-  Diabetes.csv \n",
    "\n",
    "The diabetes data set contains the diagnostic data to investigate whether the\n",
    "patient shows signs of diabetes according to World Health Organization criteria\n",
    "such as the 2-hour post-load plasma glucose.\n",
    "\n",
    "-  Winequality-white.csv\n",
    "\n",
    "\n",
    "The winequality-white data is related to the white variants of the Portuguese\n",
    "\"Vinho Verde\" wine. The goal is to model wine quality based on physicochemical\n",
    "tests.\n",
    "\n",
    "##### Expected :\n",
    "1. Train a group of different types of NNs using different NN tools to solve the two problems given. \n",
    "(Use 2 different tools to train 2-3 different types of NNs)\n",
    "2. Work on the two data sets\n",
    " You may partition each data set into two subsets: eg 75% as training data and\n",
    "25% as test data\n",
    "3. Train the NNs to achieve the highest possible classification accuracy or lowest\n",
    "possible MSE.\n",
    "4. NN ensemble - combine the outputs of individual NNs for final output \n",
    "(you may define certain calculation, such as rule(s) for the integration)\n",
    "Compare the NN performance between the NN ensemble and the individual NNs\n"
   ]
  },
  {
   "cell_type": "code",
   "execution_count": null,
   "metadata": {
    "collapsed": true
   },
   "outputs": [],
   "source": []
  }
 ],
 "metadata": {
  "anaconda-cloud": {},
  "kernelspec": {
   "display_name": "Python [carnd-term1]",
   "language": "python",
   "name": "Python [carnd-term1]"
  },
  "language_info": {
   "codemirror_mode": {
    "name": "ipython",
    "version": 3
   },
   "file_extension": ".py",
   "mimetype": "text/x-python",
   "name": "python",
   "nbconvert_exporter": "python",
   "pygments_lexer": "ipython3",
   "version": "3.5.2"
  }
 },
 "nbformat": 4,
 "nbformat_minor": 0
}
